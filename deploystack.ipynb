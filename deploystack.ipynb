{
 "cells": [
  {
   "cell_type": "code",
   "execution_count": null,
   "metadata": {
    "collapsed": true
   },
   "outputs": [],
   "source": [
    "stack_name = 'statusapi'"
   ]
  },
  {
   "cell_type": "code",
   "execution_count": null,
   "metadata": {
    "collapsed": false
   },
   "outputs": [],
   "source": [
    "cf_bucket = 'ds-deploy-us-east-1'\n",
    "template_name = 'statusapi-deploy.yml'\n",
    "smssub_zip = 'statusapi.zip'"
   ]
  },
  {
   "cell_type": "code",
   "execution_count": null,
   "metadata": {
    "collapsed": false
   },
   "outputs": [],
   "source": [
    "%%bash -s \"$template_name\" \"$smssub_zip\" \"$cf_bucket\"\n",
    "make\n",
    "aws s3 cp ./$1 s3://$3\n",
    "aws s3 cp ./$2 s3://$3"
   ]
  },
  {
   "cell_type": "code",
   "execution_count": null,
   "metadata": {
    "collapsed": false
   },
   "outputs": [],
   "source": [
    "%%bash -s \"$template_name\" \"$cf_bucket\"\n",
    "aws cloudformation package \\\n",
    "  --template-file $1 \\\n",
    "  --output-template-file serverless-output.yml  \\\n",
    "  --s3-bucket $2"
   ]
  },
  {
   "cell_type": "code",
   "execution_count": null,
   "metadata": {
    "collapsed": false
   },
   "outputs": [],
   "source": [
    "%%bash -s \"$stack_name\" \"$cf_bucket\"\n",
    "aws cloudformation deploy \\\n",
    "    --template-file serverless-output.yml \\\n",
    "    --stack-name $1 \\\n",
    "    --capabilities CAPABILITY_IAM \\\n",
    "    --parameter-overrides CodeBucketName=$2"
   ]
  },
  {
   "cell_type": "code",
   "execution_count": null,
   "metadata": {
    "collapsed": false
   },
   "outputs": [],
   "source": [
    "import boto3\n",
    "client = boto3.client('cloudformation')\n",
    "\n",
    "response = client.describe_stack_resources(\n",
    "    StackName=stack_name\n",
    ")\n",
    "\n",
    "\n",
    "restapi_id = ''\n",
    "\n",
    "resources = response['StackResources']\n",
    "for r in resources:\n",
    "    rid = r['LogicalResourceId']\n",
    "    if rid == 'ServerlessRestApi':\n",
    "        restapi_id = r['PhysicalResourceId']\n",
    "    \n",
    "        \n",
    "print restapi_id\n"
   ]
  },
  {
   "cell_type": "code",
   "execution_count": null,
   "metadata": {
    "collapsed": false
   },
   "outputs": [],
   "source": [
    "# form endpoint\n",
    "import os\n",
    "region = os.environ['AWS_DEFAULT_REGION']\n",
    "\n",
    "endpoint = 'https://{}.execute-api.{}.amazonaws.com/{}/instances'.format(restapi_id, region, 'Prod')\n",
    "print endpoint"
   ]
  },
  {
   "cell_type": "code",
   "execution_count": null,
   "metadata": {
    "collapsed": false
   },
   "outputs": [],
   "source": [
    "%%bash -s \"$endpoint\"\n",
    "curl -v $1"
   ]
  },
  {
   "cell_type": "code",
   "execution_count": null,
   "metadata": {
    "collapsed": false
   },
   "outputs": [],
   "source": [
    "ddb_client = boto3.client('dynamodb')\n",
    "\n",
    "response = ddb_client.query(\n",
    "    TableName=tablename,\n",
    "    KeyConditions={\n",
    "        'InstanceID': {\n",
    "            'AttributeValueList':[\n",
    "                {'S':'W024317-19JAN18'}\n",
    "            ],\n",
    "            'ComparisonOperator': 'EQ'\n",
    "        }\n",
    "    }\n",
    ")\n",
    "\n",
    "print response"
   ]
  },
  {
   "cell_type": "markdown",
   "metadata": {},
   "source": [
    "## Clean Up"
   ]
  },
  {
   "cell_type": "code",
   "execution_count": null,
   "metadata": {
    "collapsed": false
   },
   "outputs": [],
   "source": [
    "print 'destroy {}'.format(smssub_stack)\n",
    "response = client.delete_stack(\n",
    "    StackName=smssub_stack\n",
    ")\n",
    "\n",
    "print response\n",
    "\n",
    "waiter = client.get_waiter('stack_delete_complete')\n",
    "print 'waiting for destroy of {}...'.format(smssub_stack)\n",
    "waiter.wait(\n",
    "    StackName=smssub_stack\n",
    ")\n",
    "\n",
    "print 'Stack {} destroyed'.format(smssub_stack)"
   ]
  },
  {
   "cell_type": "code",
   "execution_count": null,
   "metadata": {
    "collapsed": true
   },
   "outputs": [],
   "source": []
  }
 ],
 "metadata": {
  "kernelspec": {
   "display_name": "Python 2",
   "language": "python",
   "name": "python2"
  },
  "language_info": {
   "codemirror_mode": {
    "name": "ipython",
    "version": 2
   },
   "file_extension": ".py",
   "mimetype": "text/x-python",
   "name": "python",
   "nbconvert_exporter": "python",
   "pygments_lexer": "ipython2",
   "version": "2.7.12"
  }
 },
 "nbformat": 4,
 "nbformat_minor": 0
}
